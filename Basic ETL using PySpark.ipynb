{
 "cells": [
  {
   "cell_type": "code",
   "execution_count": 1,
   "id": "96dfe602",
   "metadata": {},
   "outputs": [],
   "source": [
    "from pyspark.sql import SparkSession"
   ]
  },
  {
   "cell_type": "code",
   "execution_count": 2,
   "id": "dc2bf15d",
   "metadata": {},
   "outputs": [],
   "source": [
    "spark = SparkSession.builder.appName(\"chapter0\").getOrCreate()\n",
    "sqlContext = SparkSession(spark)\n",
    "\n",
    "#Only show error\n",
    "spark.sparkContext.setLogLevel(\"ERROR\")"
   ]
  },
  {
   "cell_type": "code",
   "execution_count": 3,
   "id": "63532674",
   "metadata": {
    "scrolled": true
   },
   "outputs": [
    {
     "name": "stdout",
     "output_type": "stream",
     "text": [
      "root\n",
      " |-- ID: integer (nullable = true)\n",
      " |-- Customer Name: string (nullable = true)\n",
      " |-- Consulting Sales: string (nullable = true)\n",
      " |-- Software Sales: string (nullable = true)\n",
      " |-- Forecasted Growth: string (nullable = true)\n",
      " |-- Returns: string (nullable = true)\n",
      " |-- Month: integer (nullable = true)\n",
      " |-- Day: integer (nullable = true)\n",
      " |-- Year: integer (nullable = true)\n",
      " |-- Location: string (nullable = true)\n",
      " |-- Account: string (nullable = true)\n",
      "\n"
     ]
    }
   ],
   "source": [
    "csvdf = spark.read.format(\"csv\").option(\"header\",\"true\").option(\"inferSchema\",\"true\").load(\"companies.csv\")\n",
    "csvdf.printSchema()"
   ]
  },
  {
   "cell_type": "code",
   "execution_count": 4,
   "id": "1512192f",
   "metadata": {
    "scrolled": true
   },
   "outputs": [
    {
     "name": "stdout",
     "output_type": "stream",
     "text": [
      "+-----+--------------------+----------------+--------------+-----------------+------------+-----+----+----+--------+----------+\n",
      "|   ID|       Customer Name|Consulting Sales|Software Sales|Forecasted Growth|     Returns|Month| Day|Year|Location|   Account|\n",
      "+-----+--------------------+----------------+--------------+-----------------+------------+-----+----+----+--------+----------+\n",
      "|30940|     New Media Group|      IDR7125000|    IDR5500000|           30.00%|IDR1,500,000|    1|  10|2017| Jakarta|Enterprise|\n",
      "|82391|     Li and Partners|       IDR420000|     IDR820000|           10.00%|  IDR400,000|    6|  15|2016| Jakarta|   Startup|\n",
      "|18374|PT. Kreasi Metrik...|               0|     IDR550403|           25.00%|           0|    3|  29|2012|Surabaya|Enterprise|\n",
      "|57531|PT. Algoritma Dat...|       IDR850000|     IDR395500|            4.00%|           0|    7|  17|2017| Jakarta|   Startup|\n",
      "|19002|Palembang Konsult...|      IDR2115000|             0|          -15.00%|           0|    2|  24|2018| Bandung|   Startup|\n",
      "|31142|PT. Surya Citra M...|       IDR960000|     IDR503000|           19.00%|           0|    1|  19|2019| Jakarta|Enterprise|\n",
      "|12543|                NULL|            NULL|          NULL|             NULL|        NULL| NULL|NULL|NULL|    NULL|      NULL|\n",
      "|11436|                NULL|            NULL|          NULL|             NULL|        NULL| NULL|NULL|NULL|    NULL|      NULL|\n",
      "+-----+--------------------+----------------+--------------+-----------------+------------+-----+----+----+--------+----------+\n",
      "\n"
     ]
    }
   ],
   "source": [
    "csvdf.show()"
   ]
  },
  {
   "cell_type": "code",
   "execution_count": 5,
   "id": "98eaf4eb",
   "metadata": {},
   "outputs": [],
   "source": [
    "#create temp table \n",
    "\n",
    "csvdf.createOrReplaceTempView(\"tempCSV\")"
   ]
  },
  {
   "cell_type": "code",
   "execution_count": 6,
   "id": "90b7ac15",
   "metadata": {
    "scrolled": true
   },
   "outputs": [
    {
     "name": "stdout",
     "output_type": "stream",
     "text": [
      "+-----+--------------------+----------------+--------------+-----------------+------------+-----+----+----+--------+----------+\n",
      "|   ID|       Customer Name|Consulting Sales|Software Sales|Forecasted Growth|     Returns|Month| Day|Year|Location|   Account|\n",
      "+-----+--------------------+----------------+--------------+-----------------+------------+-----+----+----+--------+----------+\n",
      "|30940|     New Media Group|      IDR7125000|    IDR5500000|           30.00%|IDR1,500,000|    1|  10|2017| Jakarta|Enterprise|\n",
      "|82391|     Li and Partners|       IDR420000|     IDR820000|           10.00%|  IDR400,000|    6|  15|2016| Jakarta|   Startup|\n",
      "|18374|PT. Kreasi Metrik...|               0|     IDR550403|           25.00%|           0|    3|  29|2012|Surabaya|Enterprise|\n",
      "|57531|PT. Algoritma Dat...|       IDR850000|     IDR395500|            4.00%|           0|    7|  17|2017| Jakarta|   Startup|\n",
      "|19002|Palembang Konsult...|      IDR2115000|             0|          -15.00%|           0|    2|  24|2018| Bandung|   Startup|\n",
      "|31142|PT. Surya Citra M...|       IDR960000|     IDR503000|           19.00%|           0|    1|  19|2019| Jakarta|Enterprise|\n",
      "|12543|                NULL|            NULL|          NULL|             NULL|        NULL| NULL|NULL|NULL|    NULL|      NULL|\n",
      "|11436|                NULL|            NULL|          NULL|             NULL|        NULL| NULL|NULL|NULL|    NULL|      NULL|\n",
      "+-----+--------------------+----------------+--------------+-----------------+------------+-----+----+----+--------+----------+\n",
      "\n"
     ]
    }
   ],
   "source": [
    "# TRANSFORM\n",
    "# test QUery SQL\n",
    "\n",
    "sqlContext.sql(\"SELECT * \\\n",
    "               from tempCSV\").show()"
   ]
  },
  {
   "cell_type": "code",
   "execution_count": 7,
   "id": "58699cf4",
   "metadata": {},
   "outputs": [
    {
     "name": "stdout",
     "output_type": "stream",
     "text": [
      "+-----+-------------+\n",
      "|   ID|Total_Returns|\n",
      "+-----+-------------+\n",
      "|19002|         NULL|\n",
      "|30940|      1500000|\n",
      "|82391|       400000|\n",
      "|31142|         NULL|\n",
      "|57531|         NULL|\n",
      "|18374|         NULL|\n",
      "+-----+-------------+\n",
      "\n"
     ]
    }
   ],
   "source": [
    "## TRANSFORM, doing some aggregation and data cleaning\n",
    "# test aggregation\n",
    "\n",
    "csvdf_agg = sqlContext.sql(\"SELECT ID, SUM(INT(REPLACE(SUBSTR(Returns,4),',',''))) as Total_Returns\\\n",
    "               from tempCSV \\\n",
    "               where Returns is not null \\\n",
    "               group by ID\").show()\n"
   ]
  },
  {
   "cell_type": "code",
   "execution_count": null,
   "id": "ad2ba8e1-aeda-4333-918c-1b2f00dca21a",
   "metadata": {},
   "outputs": [],
   "source": [
    "# load\n",
    "\n",
    "csvdf.write.format(\"csv\").save(\"csvdata\",mode='append')"
   ]
  }
 ],
 "metadata": {
  "kernelspec": {
   "display_name": "Python 3 (ipykernel)",
   "language": "python",
   "name": "python3"
  },
  "language_info": {
   "codemirror_mode": {
    "name": "ipython",
    "version": 3
   },
   "file_extension": ".py",
   "mimetype": "text/x-python",
   "name": "python",
   "nbconvert_exporter": "python",
   "pygments_lexer": "ipython3",
   "version": "3.9.12"
  }
 },
 "nbformat": 4,
 "nbformat_minor": 5
}
